{
 "cells": [
  {
   "cell_type": "code",
   "execution_count": 1,
   "id": "ac0fcab6-1470-4854-8f7e-4b181dd3ad04",
   "metadata": {},
   "outputs": [],
   "source": [
    "import cv2\n",
    "import pyautogui\n",
    "import mediapipe as mp"
   ]
  },
  {
   "cell_type": "code",
   "execution_count": 2,
   "id": "975096e7-0b1d-4b0a-901b-39cab5533963",
   "metadata": {},
   "outputs": [],
   "source": [
    "class HandDetector:\n",
    "    def __init__(self):\n",
    "        self.hand = mp.solutions.hands.Hands()\n",
    "        self.hand_drawing_utils = mp.solutions.drawing_utils\n",
    "        self.hand_landmarks = self.create_hand_landmarks()\n",
    "\n",
    "    def create_hand_landmarks(self) -> dict:\n",
    "        hand_landmarks = dict()\n",
    "        fingers = ['thumb', 'index', 'middle', 'ring', 'pinkie']\n",
    "        for finger in fingers:\n",
    "            hand_landmarks[finger] = {\n",
    "                'x': 0,\n",
    "                'y': 0\n",
    "            }\n",
    "        return hand_landmarks\n",
    "        \n",
    "    def detect_hands(self, frame) -> None:\n",
    "        height, width, _ = frame.shape\n",
    "        s_height, s_width = pyautogui.size()\n",
    "        detection = self.hand.process(frame)\n",
    "        hands = detection.multi_hand_landmarks\n",
    "        if hands:\n",
    "            for hand in hands:\n",
    "                self.hand_drawing_utils.draw_landmarks(frame, hand)\n",
    "                landmarks = hand.landmark\n",
    "                for id, landmark in enumerate(landmarks):\n",
    "                    x = int(landmark.x * width)\n",
    "                    y = int(landmark.y * height)\n",
    "                    if id == 12:\n",
    "                        cv2.circle(frame, (x, y), 10, (0, 255, 255))\n",
    "                        finger = self.hand_landmarks['index']\n",
    "                        finger['x'] = s_width / width * x\n",
    "                        finger['y'] = s_height / height * y\n",
    "                        pyautogui.moveTo(finger['x'], finger['y'])\n",
    "                    if id == 8:\n",
    "                        cv2.circle(frame, (x, y), 10, (0, 255, 255))\n",
    "                        finger = self.hand_landmarks['thumb']\n",
    "                        finger['x'] = s_width / width * x\n",
    "                        finger['y'] = s_height / height * y\n",
    "                        if abs(self.hand_landmarks['index']['y'] - finger['y']) < 10:\n",
    "                            pyautogui.click()"
   ]
  },
  {
   "cell_type": "code",
   "execution_count": 3,
   "id": "cb5d948e-5647-4892-a67c-5979e5adabf2",
   "metadata": {},
   "outputs": [],
   "source": [
    "class FaceDetector:\n",
    "    def __init__(self):\n",
    "        self.face = mp.solutions.face_mesh.FaceMesh(refine_landmarks=True)\n",
    "\n",
    "    def detect_eyes(self, frame) -> None:\n",
    "        height, width, _ = frame.shape\n",
    "        s_height, s_width = pyautogui.size()\n",
    "        detection = self.face.process(frame)\n",
    "        features = detection.multi_face_landmarks\n",
    "        if features:\n",
    "            landmarks = features[0].landmark\n",
    "            for id, landmark in enumerate(landmarks[474:478]):\n",
    "                x = int(landmark.x * width)\n",
    "                y = int(landmark.y * height)\n",
    "                cv2.circle(frame, (x, y), 3, (0, 255, 0))\n",
    "                if id == 1:\n",
    "                    cursor_x = s_width / width * x\n",
    "                    cursor_y = s_height / height * y\n",
    "                    pyautogui.moveTo(cursor_x, cursor_y)"
   ]
  },
  {
   "cell_type": "code",
   "execution_count": 4,
   "id": "1f015d44-0c4a-49b6-a80b-93eb2c218ef3",
   "metadata": {},
   "outputs": [],
   "source": [
    "cam = cv2.VideoCapture(0)\n",
    "hand_detector = HandDetector()\n",
    "face_detector = FaceDetector()"
   ]
  },
  {
   "cell_type": "code",
   "execution_count": 5,
   "id": "65e43b2a-98a5-4dda-a420-e2289b1e7c3d",
   "metadata": {},
   "outputs": [
    {
     "name": "stderr",
     "output_type": "stream",
     "text": [
      "E:\\Projects\\virtual-mouse\\virtual-mouse-env\\Lib\\site-packages\\google\\protobuf\\symbol_database.py:55: UserWarning: SymbolDatabase.GetPrototype() is deprecated. Please use message_factory.GetMessageClass() instead. SymbolDatabase.GetPrototype() will be removed soon.\n",
      "  warnings.warn('SymbolDatabase.GetPrototype() is deprecated. Please '\n"
     ]
    }
   ],
   "source": [
    "while True:\n",
    "    ret, frame = cam.read()\n",
    "    assert ret == True\n",
    "    frame = cv2.flip(frame, 1)\n",
    "    rgb_frame = cv2.cvtColor(frame, cv2.COLOR_BGR2RGB)\n",
    "    hand_detector.detect_hands(rgb_frame)\n",
    "    #face_detector.detect_eyes(rgb_frame)\n",
    "    cv2.imshow('', frame)\n",
    "    if cv2.waitKey(1) & 0xFF == ord('q'): \n",
    "        break\n",
    "cam.release()\n",
    "cv2.destroyAllWindows()"
   ]
  },
  {
   "cell_type": "code",
   "execution_count": null,
   "id": "a346055e-0f13-4edf-981a-90de776744b1",
   "metadata": {},
   "outputs": [],
   "source": []
  }
 ],
 "metadata": {
  "kernelspec": {
   "display_name": "virtual-mouse-env",
   "language": "python",
   "name": "virtual-mouse-env"
  },
  "language_info": {
   "codemirror_mode": {
    "name": "ipython",
    "version": 3
   },
   "file_extension": ".py",
   "mimetype": "text/x-python",
   "name": "python",
   "nbconvert_exporter": "python",
   "pygments_lexer": "ipython3",
   "version": "3.12.0"
  }
 },
 "nbformat": 4,
 "nbformat_minor": 5
}
